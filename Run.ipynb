{
 "cells": [
  {
   "cell_type": "code",
   "execution_count": 1,
   "metadata": {},
   "outputs": [],
   "source": [
    "from train import train \n",
    "import test_the_model\n",
    "TRAIN_MODE=False"
   ]
  },
  {
   "cell_type": "markdown",
   "metadata": {},
   "source": [
    "<h1>this section for training the model so you can skip it "
   ]
  },
  {
   "cell_type": "code",
   "execution_count": 2,
   "metadata": {},
   "outputs": [],
   "source": [
    "if TRAIN_MODE:\n",
    "    train()"
   ]
  },
  {
   "cell_type": "markdown",
   "metadata": {},
   "source": [
    "<h1> Here is the test section "
   ]
  },
  {
   "cell_type": "code",
   "execution_count": 3,
   "metadata": {},
   "outputs": [
    {
     "name": "stderr",
     "output_type": "stream",
     "text": [
      "c:\\Users\\kakas\\Anaconda3\\envs\\pytorch\\lib\\site-packages\\torchvision\\models\\_utils.py:208: UserWarning: The parameter 'pretrained' is deprecated since 0.13 and may be removed in the future, please use 'weights' instead.\n",
      "  warnings.warn(\n",
      "c:\\Users\\kakas\\Anaconda3\\envs\\pytorch\\lib\\site-packages\\torchvision\\models\\_utils.py:223: UserWarning: Arguments other than a weight enum or `None` for 'weights' are deprecated since 0.13 and may be removed in the future. The current behavior is equivalent to passing `weights=ResNet152_Weights.IMAGENET1K_V1`. You can also use `weights=ResNet152_Weights.DEFAULT` to get the most up-to-date weights.\n",
      "  warnings.warn(msg)\n",
      "c:\\Users\\kakas\\Desktop\\Final Project\\Dinknet\\test_the_model.py:50: FutureWarning: You are using `torch.load` with `weights_only=False` (the current default value), which uses the default pickle module implicitly. It is possible to construct malicious pickle data which will execute arbitrary code during unpickling (See https://github.com/pytorch/pytorch/blob/main/SECURITY.md#untrusted-models for more details). In a future release, the default value for `weights_only` will be flipped to `True`. This limits the functions that could be executed during unpickling. Arbitrary objects will no longer be allowed to be loaded via this mode unless they are explicitly allowlisted by the user via `torch.serialization.add_safe_globals`. We recommend you start setting `weights_only=True` for any use case where you don't have full control of the loaded file. Please open an issue on GitHub for any issues related to this experimental feature.\n",
      "  self.net.load_state_dict(torch.load(path))\n"
     ]
    },
    {
     "name": "stdout",
     "output_type": "stream",
     "text": [
      "0.0      0.00\n",
      "Testing on  test_1.png\n",
      "Testing on  test_10.png\n",
      "Testing on  test_11.png\n",
      "Testing on  test_12.png\n",
      "Testing on  test_13.png\n",
      "Testing on  test_14.png\n",
      "Testing on  test_15.png\n",
      "Testing on  test_16.png\n",
      "Testing on  test_17.png\n",
      "Testing on  test_18.png\n",
      "1.0      5.86\n",
      "Testing on  test_19.png\n",
      "Testing on  test_2.png\n",
      "Testing on  test_20.png\n",
      "Testing on  test_21.png\n",
      "Testing on  test_22.png\n",
      "Testing on  test_23.png\n",
      "Testing on  test_24.png\n",
      "Testing on  test_25.png\n",
      "Testing on  test_26.png\n",
      "Testing on  test_27.png\n",
      "2.0      11.19\n",
      "Testing on  test_28.png\n",
      "Testing on  test_29.png\n",
      "Testing on  test_3.png\n",
      "Testing on  test_30.png\n",
      "Testing on  test_31.png\n",
      "Testing on  test_32.png\n",
      "Testing on  test_33.png\n",
      "Testing on  test_34.png\n",
      "Testing on  test_35.png\n",
      "Testing on  test_36.png\n",
      "3.0      16.56\n",
      "Testing on  test_37.png\n",
      "Testing on  test_38.png\n",
      "Testing on  test_39.png\n",
      "Testing on  test_4.png\n",
      "Testing on  test_40.png\n",
      "Testing on  test_41.png\n",
      "Testing on  test_42.png\n",
      "Testing on  test_43.png\n",
      "Testing on  test_44.png\n",
      "Testing on  test_45.png\n",
      "4.0      21.98\n",
      "Testing on  test_46.png\n",
      "Testing on  test_47.png\n",
      "Testing on  test_48.png\n",
      "Testing on  test_49.png\n",
      "Testing on  test_5.png\n",
      "Testing on  test_50.png\n",
      "Testing on  test_6.png\n",
      "Testing on  test_7.png\n",
      "Testing on  test_8.png\n",
      "Testing on  test_9.png\n"
     ]
    }
   ],
   "source": [
    "if not TRAIN_MODE:\n",
    "    test_the_model.Test()\n",
    "#you will see the images in the submits folder"
   ]
  },
  {
   "cell_type": "markdown",
   "metadata": {},
   "source": [
    "<h1> for converting mask to csv Files\n"
   ]
  },
  {
   "cell_type": "code",
   "execution_count": 4,
   "metadata": {},
   "outputs": [],
   "source": [
    "from mask_to_csv import submit\n",
    "submit()"
   ]
  },
  {
   "cell_type": "markdown",
   "metadata": {},
   "source": []
  },
  {
   "cell_type": "code",
   "execution_count": null,
   "metadata": {},
   "outputs": [],
   "source": [
    "#You can go to ExploreData file to visualize the images with and without augmentation.\n",
    "# This file also demonstrates how the images look after patching.\n"
   ]
  }
 ],
 "metadata": {
  "kernelspec": {
   "display_name": "pytorch",
   "language": "python",
   "name": "python3"
  },
  "language_info": {
   "codemirror_mode": {
    "name": "ipython",
    "version": 3
   },
   "file_extension": ".py",
   "mimetype": "text/x-python",
   "name": "python",
   "nbconvert_exporter": "python",
   "pygments_lexer": "ipython3",
   "version": "3.9.20"
  }
 },
 "nbformat": 4,
 "nbformat_minor": 2
}
